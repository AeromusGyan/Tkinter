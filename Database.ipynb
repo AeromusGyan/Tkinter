{
 "cells": [
  {
   "cell_type": "markdown",
   "id": "a9c93d44",
   "metadata": {},
   "source": [
    "# Import pymysql"
   ]
  },
  {
   "cell_type": "code",
   "execution_count": 1,
   "id": "7ac8ba26",
   "metadata": {},
   "outputs": [],
   "source": [
    "import pymysql"
   ]
  },
  {
   "cell_type": "markdown",
   "id": "e581340d",
   "metadata": {},
   "source": [
    "# creating connection"
   ]
  },
  {
   "cell_type": "code",
   "execution_count": 2,
   "id": "41f3b12d",
   "metadata": {},
   "outputs": [],
   "source": [
    "# Database creation function \n",
    "def CreateConn():\n",
    "    return pymysql.connect(host=\"localhost\",database=\"test\",user=\"root\",password=\"\",port=3306)"
   ]
  },
  {
   "cell_type": "markdown",
   "id": "057d1c51",
   "metadata": {},
   "source": [
    "# Create and Insert"
   ]
  },
  {
   "cell_type": "code",
   "execution_count": 3,
   "id": "7fc8e0e0",
   "metadata": {},
   "outputs": [
    {
     "name": "stdout",
     "output_type": "stream",
     "text": [
      "Table Created  create table students(rollno int primary key auto_increment, fname VARCHAR(50),lname VARCHAR(50), email VARCHAR(50))\n"
     ]
    }
   ],
   "source": [
    "import pymysql\n",
    "# Database creation function \n",
    "def CreateConn():\n",
    "    return pymysql.connect(host=\"localhost\",database=\"test\",user=\"root\",password=\"\",port=3306)\n",
    "\n",
    "# Table create fuunction \n",
    "def CreateTable():\n",
    "    conn  = CreateConn()\n",
    "    cursor = conn.cursor() #helpning to exceute your query\n",
    "    query = \"create table students(rollno int primary key auto_increment, fname VARCHAR(50),lname VARCHAR(50), email VARCHAR(50))\"\n",
    "    cursor.execute(query)\n",
    "    conn.commit()\n",
    "    print(\"Table Created \",query)\n",
    "    conn.close()\n",
    "    \n",
    "# Calling create function \n",
    "CreateTable()"
   ]
  },
  {
   "cell_type": "markdown",
   "id": "29331665",
   "metadata": {},
   "source": [
    "# Insert recorrd in database"
   ]
  },
  {
   "cell_type": "code",
   "execution_count": 9,
   "id": "adb554e8",
   "metadata": {},
   "outputs": [
    {
     "name": "stdout",
     "output_type": "stream",
     "text": [
      "Enter your Name :Anshi\n",
      "Enter your Email :anshi@gmail.com\n",
      "Enter your City :Gola\n",
      "Data Inserted insert into student(name,email,city)values(%s,%s,%s)\n"
     ]
    }
   ],
   "source": [
    "def InsertData(name,email,city):\n",
    "    conn = CreateConn()\n",
    "    cursor = conn.cursor()\n",
    "    args = (name,email,city)\n",
    "    query = \"insert into student(name,email,city)values(%s,%s,%s)\"\n",
    "    cursor.execute(query,args)\n",
    "    conn.commit()  #saving the data using commit\n",
    "    print(\"Data Inserted\",query)\n",
    "    conn.close()\n",
    "    \n",
    "n = input(\"Enter your Name :\")\n",
    "e = input(\"Enter your Email :\")\n",
    "c = input(\"Enter your City :\")\n",
    "InsertData(n,e,c)\n"
   ]
  },
  {
   "cell_type": "markdown",
   "id": "bce37b16",
   "metadata": {},
   "source": [
    "# Fetch all data from database "
   ]
  },
  {
   "cell_type": "code",
   "execution_count": 10,
   "id": "3f2b9f3a",
   "metadata": {},
   "outputs": [
    {
     "name": "stdout",
     "output_type": "stream",
     "text": [
      "(1, 'Gyan', 'Gp@gmail.com', 'Lucknow')\n",
      "(2, 'Anshi', 'anshi@gmail.com', 'Gola')\n"
     ]
    }
   ],
   "source": [
    "def ShowAllData():\n",
    "    conn = CreateConn()\n",
    "    cursor = conn.cursor()\n",
    "    query = \"select * from student\"\n",
    "    cursor.execute(query)\n",
    "    result = cursor.fetchall()\n",
    "    for i in result:\n",
    "        print(i)\n",
    "        \n",
    "ShowAllData()"
   ]
  },
  {
   "cell_type": "markdown",
   "id": "2fc85cc7",
   "metadata": {},
   "source": [
    "# Fetch data by id from Database"
   ]
  },
  {
   "cell_type": "code",
   "execution_count": 13,
   "id": "64a91bd0",
   "metadata": {},
   "outputs": [
    {
     "name": "stdout",
     "output_type": "stream",
     "text": [
      "(1, 'Gyan', 'Gp@gmail.com', 'Lucknow')\n",
      "(2, 'Anshi', 'anshi@gmail.com', 'Gola')\n",
      "Enter your id :1\n",
      "(1, 'Gyan', 'Gp@gmail.com', 'Lucknow')\n"
     ]
    }
   ],
   "source": [
    "def ShowAllDataById(sid):\n",
    "    conn = CreateConn()\n",
    "    cursor = conn.cursor()\n",
    "    args = (sid)\n",
    "    query = \"select * from student where sid=%s\"\n",
    "    cursor.execute(query,args)\n",
    "    result = cursor.fetchall()\n",
    "    for i in result:\n",
    "        print(i)\n",
    "\n",
    "ShowAllData()\n",
    "sid = int(input(\"Enter your id :\"))\n",
    "ShowAllDataById(sid)"
   ]
  },
  {
   "cell_type": "markdown",
   "id": "229eb662",
   "metadata": {},
   "source": [
    "# Update data from Database"
   ]
  },
  {
   "cell_type": "code",
   "execution_count": 16,
   "id": "1be755e1",
   "metadata": {},
   "outputs": [
    {
     "name": "stdout",
     "output_type": "stream",
     "text": [
      "(1, '', '', 'Prayagraj')\n",
      "(2, 'Anshi', 'anshi@gmail.com', 'Gola')\n",
      "Enter your ID :1\n",
      "Enter your Name :Gyan Prakash\n",
      "Enter your Email :gp@gmail.com\n",
      "Enter your City :Prayagraj\n",
      "Data Updated : update student set name=%s,email=%s,city=%s where sid=%s\n",
      "(1, 'Gyan Prakash', 'gp@gmail.com', 'Prayagraj')\n",
      "(2, 'Anshi', 'anshi@gmail.com', 'Gola')\n"
     ]
    }
   ],
   "source": [
    "def UpdateData(name,email,city,sid):\n",
    "    conn = CreateConn()\n",
    "    cursor = conn.cursor()\n",
    "    args = (name,email,city,sid)\n",
    "    query = \"update student set name=%s,email=%s,city=%s where sid=%s\"\n",
    "    cursor.execute(query,args)\n",
    "    conn.commit()\n",
    "    print(\"Data Updated :\",query)\n",
    "    conn.close()\n",
    "    \n",
    "ShowAllData()\n",
    "\n",
    "sid = int(input(\"Enter your ID :\"))\n",
    "n = input(\"Enter your Name :\")\n",
    "e = input(\"Enter your Email :\")\n",
    "c = input(\"Enter your City :\")\n",
    "\n",
    "UpdateData(n,e,c,sid)\n",
    "ShowAllData()"
   ]
  },
  {
   "cell_type": "markdown",
   "id": "60e6da89",
   "metadata": {},
   "source": [
    "# Delete data from Database"
   ]
  },
  {
   "cell_type": "code",
   "execution_count": 19,
   "id": "6099d531",
   "metadata": {},
   "outputs": [
    {
     "name": "stdout",
     "output_type": "stream",
     "text": [
      "(1, 'Gyan Prakash', 'gp@gmail.com', 'Prayagraj')\n",
      "(2, 'Anshi', 'anshi@gmail.com', 'Gola')\n",
      "Enter your ID :2\n",
      "Data Deleted : delete from student where sid=%s\n",
      "(1, 'Gyan Prakash', 'gp@gmail.com', 'Prayagraj')\n"
     ]
    }
   ],
   "source": [
    "def DeleteData(sid):\n",
    "    conn = CreateConn()\n",
    "    cursor = conn.cursor()\n",
    "    args = (sid)\n",
    "    query = \"delete from student where sid=%s\"\n",
    "    cursor.execute(query,args)\n",
    "    conn.commit()\n",
    "    print(\"Data Deleted :\",query)\n",
    "    conn.close()\n",
    "    \n",
    "ShowAllData()\n",
    "\n",
    "sid = int(input(\"Enter your ID :\"))\n",
    "\n",
    "DeleteData(sid)\n",
    "\n",
    "ShowAllData()"
   ]
  },
  {
   "cell_type": "code",
   "execution_count": null,
   "id": "1931ce96",
   "metadata": {},
   "outputs": [],
   "source": []
  }
 ],
 "metadata": {
  "kernelspec": {
   "display_name": "Python 3.10.1 64-bit",
   "language": "python",
   "name": "python3"
  },
  "language_info": {
   "codemirror_mode": {
    "name": "ipython",
    "version": 3
   },
   "file_extension": ".py",
   "mimetype": "text/x-python",
   "name": "python",
   "nbconvert_exporter": "python",
   "pygments_lexer": "ipython3",
   "version": "3.10.1"
  },
  "vscode": {
   "interpreter": {
    "hash": "107d7b120a5b68773a87d4067e673630b35702e55ebab3138143d08b1c4d7cbc"
   }
  }
 },
 "nbformat": 4,
 "nbformat_minor": 5
}
