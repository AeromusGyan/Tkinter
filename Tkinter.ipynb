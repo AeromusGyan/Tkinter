{
 "cells": [
  {
   "cell_type": "code",
   "execution_count": 1,
   "id": "71baaa12",
   "metadata": {},
   "outputs": [],
   "source": [
    "# import tkinter\n",
    "from tkinter import *\n",
    "# Creating a main window\n",
    "r = Tk()\n",
    "\n",
    "# mainloop method called\n",
    "mainloop()"
   ]
  },
  {
   "cell_type": "markdown",
   "id": "e476992f",
   "metadata": {},
   "source": [
    "# Creating customize window"
   ]
  },
  {
   "cell_type": "code",
   "execution_count": 2,
   "id": "ed6e1519",
   "metadata": {},
   "outputs": [],
   "source": [
    "# import tkinter\n",
    "from tkinter import *\n",
    "# Creating a main window\n",
    "r = Tk()\n",
    "\n",
    "r.geometry(\"400x500\")\n",
    "r.title(\"My App\")\n",
    "r.configure(bg=\"Yellow\")\n",
    "# mainloop method called\n",
    "mainloop()"
   ]
  },
  {
   "cell_type": "markdown",
   "id": "021e84f2",
   "metadata": {},
   "source": [
    "# Adding widgets in window"
   ]
  },
  {
   "cell_type": "code",
   "execution_count": 3,
   "id": "7d60f0c7",
   "metadata": {},
   "outputs": [],
   "source": [
    "# import tkinter\n",
    "from tkinter import *\n",
    "# Creating a main window\n",
    "r = Tk()\n",
    "\n",
    "r.geometry(\"400x500\")\n",
    "r.title(\"My App\")\n",
    "r.configure(bg=\"Yellow\")\n",
    "\n",
    "# Adding label in main window\n",
    "\n",
    "rn = Label(r,text=\"Roll no\")\n",
    "rn.place(x=20,y=20)\n",
    "\n",
    "fn = Label(r,text=\"First name\")\n",
    "fn.place(x=20,y=60)\n",
    "\n",
    "ln = Label(r,text=\"Last name\")\n",
    "ln.place(x=20,y=100)\n",
    "\n",
    "em = Label(r,text=\"Email\")\n",
    "em.place(x=20,y=130)\n",
    "\n",
    "# Adding entry Bos into Main Window\n",
    "\n",
    "ern = Entry()\n",
    "ern.place(x=100,y=20)\n",
    "\n",
    "efn = Entry()\n",
    "efn.place(x=100,y=60)\n",
    "\n",
    "eln = Entry()\n",
    "eln.place(x=100,y=100)\n",
    "\n",
    "eem = Entry()\n",
    "eem.place(x=100,y=130)\n",
    "\n",
    "# Adding Buttons\n",
    "\n",
    "button1 = Button(r,text=\"Button\",bg=\"White\")\n",
    "button1.place(x=20,y=200)\n",
    "# mainloop method called\n",
    "mainloop()"
   ]
  },
  {
   "cell_type": "code",
   "execution_count": null,
   "id": "21c155eb",
   "metadata": {},
   "outputs": [],
   "source": []
  }
 ],
 "metadata": {
  "kernelspec": {
   "display_name": "Python 3.10.1 64-bit",
   "language": "python",
   "name": "python3"
  },
  "language_info": {
   "codemirror_mode": {
    "name": "ipython",
    "version": 3
   },
   "file_extension": ".py",
   "mimetype": "text/x-python",
   "name": "python",
   "nbconvert_exporter": "python",
   "pygments_lexer": "ipython3",
   "version": "3.10.1"
  },
  "vscode": {
   "interpreter": {
    "hash": "107d7b120a5b68773a87d4067e673630b35702e55ebab3138143d08b1c4d7cbc"
   }
  }
 },
 "nbformat": 4,
 "nbformat_minor": 5
}
